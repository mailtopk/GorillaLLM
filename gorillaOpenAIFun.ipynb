{
 "cells": [
  {
   "cell_type": "markdown",
   "metadata": {},
   "source": [
    "### OpenAI Functions using Gorilla LLM model\n",
    "This example is to help understand and experiment OpenFunction\n",
    "Model used here  is gorilla-openfunctions-v0\n",
    "\n",
    "Ref - https://gorilla.cs.berkeley.edu/blogs/4_open_functions.html"
   ]
  },
  {
   "cell_type": "code",
   "execution_count": 5,
   "metadata": {},
   "outputs": [],
   "source": [
    "import json\n",
    "import openai\n",
    "\n",
    "# Example dummy function hard coded to return the same weather for now\n",
    "def get_current_weather(location, unit=\"fahrenheit\"):\n",
    "    \"\"\"Get the current weather in a given location\"\"\"\n",
    "    weather_info = {\n",
    "        \"location\": location,\n",
    "        \"temperature\": \"46 \"+ unit,\n",
    "        \"unit\": unit,\n",
    "        \"forecast\": [\"rainy\", \"windy\"],\n",
    "    }\n",
    "    return json.dumps(weather_info)"
   ]
  },
  {
   "cell_type": "code",
   "execution_count": 6,
   "metadata": {},
   "outputs": [],
   "source": [
    "# define a function.\n",
    "# query can be something like, Get current weather in seattle, WA\n",
    "functions = [\n",
    "    {\n",
    "        \"name\": \"get_current_weather\",\n",
    "        \"description\": \"Get the current weather in a given location\",\n",
    "        \"parameters\": {\n",
    "            \"type\": \"object\",\n",
    "            \"properties\": {\n",
    "                \"location\": {\n",
    "                    \"type\": \"string\",\n",
    "                    \"description\": \"The city and state, e.g. Seattle, WA\",\n",
    "                },\n",
    "                \"unit\": {\"type\": \"string\", \"enum\": [\"celsius\", \"fahrenheit\"]},\n",
    "            },\n",
    "            \"required\": [\"location\"],\n",
    "        },\n",
    "    }\n",
    "]"
   ]
  },
  {
   "cell_type": "code",
   "execution_count": 7,
   "metadata": {},
   "outputs": [],
   "source": [
    "def get_response_from_model(messages, function_name, model = \"gorilla-openfunctions-v1\"):\n",
    "    openai.api_key = \"EMPTY\"\n",
    "    openai.api_base =  \"http://luigi.millennium.berkeley.edu:8000/v1\"\n",
    "\n",
    "    response = openai.ChatCompletion.create(\n",
    "                model = model,\n",
    "                messages = messages,\n",
    "                functions = functions,\n",
    "                function_call = {\"name\":function_name}\n",
    "            )\n",
    "    return response"
   ]
  },
  {
   "cell_type": "code",
   "execution_count": 8,
   "metadata": {},
   "outputs": [],
   "source": [
    "messages = [{\n",
    "        \"role\": \"user\",\n",
    "        \"content\": \"What's the weather like in Seattle?\"\n",
    "    }]\n",
    "\n",
    "get_response_from_model(messages=messages,function_name=\"get_current_weather\" )"
   ]
  },
  {
   "cell_type": "markdown",
   "metadata": {},
   "source": [
    "#### LangChain Expression Language (LCEL)"
   ]
  },
  {
   "cell_type": "code",
   "execution_count": 20,
   "metadata": {},
   "outputs": [],
   "source": [
    "# Generate function doc using pydantic \n",
    "from pydantic import BaseModel, Field\n",
    "from enum import Enum\n",
    "\n",
    "class units(str, Enum):\n",
    "    pear = 'fahrenheit'\n",
    "    banana = 'celsius'\n",
    "\n",
    "class WeatherReport(BaseModel):\n",
    "    \"\"\"Get the current weather in a given location\"\"\"\n",
    "    location: str = Field(description=\"The city and state, e.g. Seattle, WA\")\n",
    "    unit: units = Field(description=\"enum celsius or fahrenheit\")"
   ]
  },
  {
   "cell_type": "code",
   "execution_count": 21,
   "metadata": {},
   "outputs": [
    {
     "data": {
      "text/plain": [
       "{'name': 'WeatherReport',\n",
       " 'description': 'Get the current weather in a given location',\n",
       " 'parameters': {'$defs': {'units': {'enum': ['fahrenheit', 'celsius'],\n",
       "    'title': 'units',\n",
       "    'type': 'string'}},\n",
       "  'description': 'Get the current weather in a given location',\n",
       "  'properties': {'location': {'description': 'The city and state, e.g. Seattle, WA',\n",
       "    'title': 'Location',\n",
       "    'type': 'string'},\n",
       "   'unit': {'allOf': [{'enum': ['fahrenheit', 'celsius'],\n",
       "      'title': 'units',\n",
       "      'type': 'string'}],\n",
       "    'description': 'enum celsius or fahrenheit'}},\n",
       "  'required': ['location', 'unit'],\n",
       "  'title': 'WeatherReport',\n",
       "  'type': 'object'}}"
      ]
     },
     "execution_count": 21,
     "metadata": {},
     "output_type": "execute_result"
    }
   ],
   "source": [
    "from langchain.utils.openai_functions import convert_pydantic_to_openai_function\n",
    "import json\n",
    "weather_report_function = convert_pydantic_to_openai_function(WeatherReport)\n",
    "weather_report_function"
   ]
  }
 ],
 "metadata": {
  "kernelspec": {
   "display_name": "gorlenv",
   "language": "python",
   "name": "python3"
  },
  "language_info": {
   "codemirror_mode": {
    "name": "ipython",
    "version": 3
   },
   "file_extension": ".py",
   "mimetype": "text/x-python",
   "name": "python",
   "nbconvert_exporter": "python",
   "pygments_lexer": "ipython3",
   "version": "3.11.3"
  }
 },
 "nbformat": 4,
 "nbformat_minor": 2
}
